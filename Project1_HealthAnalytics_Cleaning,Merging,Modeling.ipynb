{
 "cells": [
  {
   "cell_type": "code",
   "execution_count": 33,
   "metadata": {},
   "outputs": [],
   "source": [
    "import pandas as pd\n",
    "import glob\n",
    "from IPython.display import display\n",
    "import seaborn as sns\n",
    "import numpy as np\n",
    "import os\n",
    "from scipy.stats.stats import pearsonr"
   ]
  },
  {
   "cell_type": "code",
   "execution_count": 34,
   "metadata": {},
   "outputs": [],
   "source": [
    "from sklearn.preprocessing import LabelEncoder\n",
    "from sklearn.preprocessing import OneHotEncoder\n",
    "from sklearn.model_selection import train_test_split\n",
    "# Importing Classifier Modules\n",
    "from sklearn.linear_model import LogisticRegression\n",
    "from sklearn.svm import SVC, LinearSVC\n",
    "from sklearn.tree import DecisionTreeClassifier\n",
    "from sklearn.ensemble import RandomForestClassifier\n",
    "from sklearn import preprocessing\n",
    "from sklearn.preprocessing import StandardScaler\n",
    "from sklearn.utils import check_random_state\n",
    "from sklearn import metrics\n",
    "from sklearn.metrics import accuracy_score\n",
    "from sklearn.metrics import roc_curve\n",
    "from sklearn.metrics import roc_auc_score\n",
    "from sklearn.metrics import classification_report\n",
    "from sklearn.metrics import brier_score_loss\n",
    "from sklearn.model_selection import cross_val_score"
   ]
  },
  {
   "cell_type": "code",
   "execution_count": 35,
   "metadata": {},
   "outputs": [],
   "source": [
    "SyncCondition = pd.read_csv(\"SyncCondition.csv\")\n",
    "SyncSmokingStatus = pd.read_csv(\"SyncSmokingStatus.csv\")\n",
    "test_SyncPatient = pd.read_csv(\"test_SyncPatient.csv\")\n",
    "training_SyncAllergy = pd.read_csv(\"training_SyncAllergy.csv\")\n",
    "training_SyncDiagnosis = pd.read_csv(\"training_SyncDiagnosis.csv\", dtype  = {'ICD9Code': str})\n",
    "training_SyncImmunization = pd.read_csv(\"training_SyncImmunization.csv\")\n",
    "training_SyncLabObservation = pd.read_csv(\"training_SyncLabObservation.csv\")\n",
    "training_SyncLabPanel = pd.read_csv(\"training_SyncLabPanel.csv\")\n",
    "training_SyncLabResult = pd.read_csv(\"training_SyncLabResult.csv\")\n",
    "training_SyncMedication  = pd.read_csv(\"training_SyncMedication.csv\")\n",
    "training_SyncPatient = pd.read_csv(\"training_SyncPatient.csv\")\n",
    "training_SyncPatientCondition = pd.read_csv(\"training_SyncPatientCondition.csv\")\n",
    "training_SyncPatientSmokingStatus = pd.read_csv(\"training_SyncPatientSmokingStatus.csv\")\n",
    "training_SyncPrescription = pd.read_csv(\"training_SyncPrescription.csv\")\n",
    "training_SyncTranscript = pd.read_csv(\"training_SyncTranscript.csv\")\n",
    "training_SyncTranscriptAllergy = pd.read_csv(\"training_SyncTranscriptAllergy.csv\")\n",
    "training_SyncTranscriptDiagnosis = pd.read_csv(\"training_SyncTranscriptDiagnosis.csv\")\n",
    "training_SyncTranscriptMedication = pd.read_csv(\"training_SyncTranscriptMedication.csv\")"
   ]
  },
  {
   "cell_type": "markdown",
   "metadata": {},
   "source": [
    "# Flattening Files"
   ]
  },
  {
   "cell_type": "markdown",
   "metadata": {},
   "source": [
    "The following sections are where I flatten each of the files individually and then merge them together. You can start here if you are lacking RAM/working memory. "
   ]
  },
  {
   "cell_type": "markdown",
   "metadata": {},
   "source": [
    "# Flattening Sync Diagnosis"
   ]
  },
  {
   "cell_type": "markdown",
   "metadata": {},
   "source": [
    "Some of the ICD9 codes have strings that need to be replaced. "
   ]
  },
  {
   "cell_type": "code",
   "execution_count": 36,
   "metadata": {},
   "outputs": [],
   "source": [
    "training_SyncDiagnosis['ICD9Code'] = training_SyncDiagnosis['ICD9Code'].str.replace(\"V\",'2000')\n",
    "training_SyncDiagnosis['ICD9Code'] = training_SyncDiagnosis['ICD9Code'].str.replace(\"E\",'2000')\n",
    "training_SyncDiagnosis['ICD9Code'] = training_SyncDiagnosis['ICD9Code'].str.replace(\"v\",'2000')\n",
    "training_SyncDiagnosis['ICD9Code'] = training_SyncDiagnosis['ICD9Code'].str.replace(\"e\",'2000')"
   ]
  },
  {
   "cell_type": "code",
   "execution_count": 37,
   "metadata": {},
   "outputs": [],
   "source": [
    "training_SyncDiagnosis['ICD9Code'] = training_SyncDiagnosis['ICD9Code'].astype(float)"
   ]
  },
  {
   "cell_type": "code",
   "execution_count": 38,
   "metadata": {},
   "outputs": [],
   "source": [
    "diagnosis_list = [0]*training_SyncDiagnosis.shape[0]\n",
    "for i in range(training_SyncDiagnosis.shape[0]):\n",
    "    if training_SyncDiagnosis['ICD9Code'].iloc[i] == 585.00 or training_SyncDiagnosis['ICD9Code'].iloc[i] == 276.70 or training_SyncDiagnosis['ICD9Code'].iloc[i] == 250.61:\n",
    "        diagnosis_list[i] = 1\n",
    "    else:\n",
    "        diagnosis_list[i] = 0"
   ]
  },
  {
   "cell_type": "code",
   "execution_count": 39,
   "metadata": {},
   "outputs": [],
   "source": [
    "training_SyncDiagnosis['ICD_Bucket'] = diagnosis_list"
   ]
  },
  {
   "cell_type": "code",
   "execution_count": 40,
   "metadata": {},
   "outputs": [],
   "source": [
    "Final_SyncDiagnosis = training_SyncDiagnosis.pivot_table(['ICD_Bucket'],\n",
    "               index = ['PatientGuid'], aggfunc='sum')"
   ]
  },
  {
   "cell_type": "code",
   "execution_count": 41,
   "metadata": {},
   "outputs": [],
   "source": [
    "Final_SyncDiagnosis.reset_index(level=0, inplace=True)"
   ]
  },
  {
   "cell_type": "markdown",
   "metadata": {},
   "source": [
    "The following is the end result. The buckets currently indicate how many diagnosis the patient had for the ICD 9 codes listed above. Buckets 2 and 3 are rather small so we could roll these back up into bucket 1 making it a binary indicator"
   ]
  },
  {
   "cell_type": "code",
   "execution_count": 42,
   "metadata": {},
   "outputs": [
    {
     "data": {
      "text/plain": [
       "0    9806\n",
       "1     127\n",
       "2      13\n",
       "3       2\n",
       "Name: ICD_Bucket, dtype: int64"
      ]
     },
     "execution_count": 42,
     "metadata": {},
     "output_type": "execute_result"
    }
   ],
   "source": [
    "Final_SyncDiagnosis['ICD_Bucket'].value_counts()"
   ]
  },
  {
   "cell_type": "code",
   "execution_count": 43,
   "metadata": {},
   "outputs": [
    {
     "data": {
      "text/plain": [
       "0    9806\n",
       "1     142\n",
       "Name: ICD_Bucket, dtype: int64"
      ]
     },
     "execution_count": 43,
     "metadata": {},
     "output_type": "execute_result"
    }
   ],
   "source": [
    "dict = {\n",
    "    0:0,\n",
    " 1:1,\n",
    " 2:1,\n",
    " 3:1\n",
    "}\n",
    "Final_SyncDiagnosis['ICD_Bucket'] = Final_SyncDiagnosis['ICD_Bucket'].map(dict)\n",
    "Final_SyncDiagnosis['ICD_Bucket'].value_counts()"
   ]
  },
  {
   "cell_type": "markdown",
   "metadata": {},
   "source": [
    "# Flattening Sync Medication"
   ]
  },
  {
   "cell_type": "markdown",
   "metadata": {},
   "source": [
    "Next, merging with SyncMedication. Going to merge on DiagnosisGuid (assuming each medicine is related to a specific diagnosis). Going to not include PatientGuid (irrelevant). Was going to rename StartYear and StopYear but it appears theyve been taken out. "
   ]
  },
  {
   "cell_type": "code",
   "execution_count": 44,
   "metadata": {},
   "outputs": [
    {
     "data": {
      "text/plain": [
       "Index(['MedicationGuid', 'PatientGuid', 'NdcCode', 'MedicationName',\n",
       "       'MedicationStrength', 'Schedule', 'DiagnosisGuid', 'UserGuid'],\n",
       "      dtype='object')"
      ]
     },
     "execution_count": 44,
     "metadata": {},
     "output_type": "execute_result"
    }
   ],
   "source": [
    "training_SyncMedication.columns"
   ]
  },
  {
   "cell_type": "code",
   "execution_count": 45,
   "metadata": {},
   "outputs": [],
   "source": [
    "training_SyncMedication['Count'] = 1"
   ]
  },
  {
   "cell_type": "code",
   "execution_count": 46,
   "metadata": {},
   "outputs": [],
   "source": [
    "training_SyncMedication = pd.crosstab(training_SyncMedication['PatientGuid'], training_SyncMedication['Count'])"
   ]
  },
  {
   "cell_type": "code",
   "execution_count": 47,
   "metadata": {},
   "outputs": [],
   "source": [
    "training_SyncMedication.reset_index(level=0, inplace=True)"
   ]
  },
  {
   "cell_type": "code",
   "execution_count": 48,
   "metadata": {},
   "outputs": [],
   "source": [
    "training_SyncMedication.columns = ['PatientGuid', 'Count_of_Medications']"
   ]
  },
  {
   "cell_type": "code",
   "execution_count": 49,
   "metadata": {},
   "outputs": [
    {
     "data": {
      "text/html": [
       "<div>\n",
       "<style scoped>\n",
       "    .dataframe tbody tr th:only-of-type {\n",
       "        vertical-align: middle;\n",
       "    }\n",
       "\n",
       "    .dataframe tbody tr th {\n",
       "        vertical-align: top;\n",
       "    }\n",
       "\n",
       "    .dataframe thead th {\n",
       "        text-align: right;\n",
       "    }\n",
       "</style>\n",
       "<table border=\"1\" class=\"dataframe\">\n",
       "  <thead>\n",
       "    <tr style=\"text-align: right;\">\n",
       "      <th></th>\n",
       "      <th>PatientGuid</th>\n",
       "      <th>Count_of_Medications</th>\n",
       "    </tr>\n",
       "  </thead>\n",
       "  <tbody>\n",
       "    <tr>\n",
       "      <th>0</th>\n",
       "      <td>00023761-9D8D-445B-874C-2424CC7CF620</td>\n",
       "      <td>1</td>\n",
       "    </tr>\n",
       "    <tr>\n",
       "      <th>1</th>\n",
       "      <td>0005D9BD-0247-4F02-B7EE-7C1B44825FA1</td>\n",
       "      <td>1</td>\n",
       "    </tr>\n",
       "    <tr>\n",
       "      <th>2</th>\n",
       "      <td>000B4862-7CE7-4EC5-8043-A97FCD74BD78</td>\n",
       "      <td>2</td>\n",
       "    </tr>\n",
       "    <tr>\n",
       "      <th>3</th>\n",
       "      <td>00110ABC-DAB9-49E3-A1C8-88BBF8D58109</td>\n",
       "      <td>4</td>\n",
       "    </tr>\n",
       "    <tr>\n",
       "      <th>4</th>\n",
       "      <td>002667F4-B9A3-4DE2-875F-8034DD637865</td>\n",
       "      <td>1</td>\n",
       "    </tr>\n",
       "  </tbody>\n",
       "</table>\n",
       "</div>"
      ],
      "text/plain": [
       "                            PatientGuid  Count_of_Medications\n",
       "0  00023761-9D8D-445B-874C-2424CC7CF620                     1\n",
       "1  0005D9BD-0247-4F02-B7EE-7C1B44825FA1                     1\n",
       "2  000B4862-7CE7-4EC5-8043-A97FCD74BD78                     2\n",
       "3  00110ABC-DAB9-49E3-A1C8-88BBF8D58109                     4\n",
       "4  002667F4-B9A3-4DE2-875F-8034DD637865                     1"
      ]
     },
     "execution_count": 49,
     "metadata": {},
     "output_type": "execute_result"
    }
   ],
   "source": [
    "training_SyncMedication.head()"
   ]
  },
  {
   "cell_type": "markdown",
   "metadata": {},
   "source": [
    "# Flattening Sync Patient Smoking Status"
   ]
  },
  {
   "cell_type": "code",
   "execution_count": 50,
   "metadata": {},
   "outputs": [],
   "source": [
    "Smoking_Merged = training_SyncPatientSmokingStatus.merge(SyncSmokingStatus, how = 'left', on = 'SmokingStatusGuid')"
   ]
  },
  {
   "cell_type": "code",
   "execution_count": 51,
   "metadata": {},
   "outputs": [
    {
     "data": {
      "text/plain": [
       "(4940, 6)"
      ]
     },
     "execution_count": 51,
     "metadata": {},
     "output_type": "execute_result"
    }
   ],
   "source": [
    "Smoking_Merged.shape"
   ]
  },
  {
   "cell_type": "code",
   "execution_count": 52,
   "metadata": {},
   "outputs": [],
   "source": [
    "Smoking_Merged.sort_values(by = 'EffectiveYear', ascending = True, inplace = True) #shows that we only have\n",
    "# a few 0s, not of which are duplicated. "
   ]
  },
  {
   "cell_type": "code",
   "execution_count": 53,
   "metadata": {},
   "outputs": [
    {
     "data": {
      "text/html": [
       "<div>\n",
       "<style scoped>\n",
       "    .dataframe tbody tr th:only-of-type {\n",
       "        vertical-align: middle;\n",
       "    }\n",
       "\n",
       "    .dataframe tbody tr th {\n",
       "        vertical-align: top;\n",
       "    }\n",
       "\n",
       "    .dataframe thead th {\n",
       "        text-align: right;\n",
       "    }\n",
       "</style>\n",
       "<table border=\"1\" class=\"dataframe\">\n",
       "  <thead>\n",
       "    <tr style=\"text-align: right;\">\n",
       "      <th></th>\n",
       "      <th>PatientSmokingStatusGuid</th>\n",
       "      <th>PatientGuid</th>\n",
       "      <th>SmokingStatusGuid</th>\n",
       "      <th>EffectiveYear</th>\n",
       "      <th>Description</th>\n",
       "      <th>NISTcode</th>\n",
       "    </tr>\n",
       "  </thead>\n",
       "  <tbody>\n",
       "    <tr>\n",
       "      <th>4771</th>\n",
       "      <td>5B6BE503-1EF8-4D77-8E8C-F701AF04E490</td>\n",
       "      <td>E4BBCBFE-5E18-4AC8-AB13-A82C899C45BA</td>\n",
       "      <td>FCD437AA-0451-4D8A-9396-B6F19D8B25E8</td>\n",
       "      <td>0</td>\n",
       "      <td>1-2 packs per day</td>\n",
       "      <td>1</td>\n",
       "    </tr>\n",
       "    <tr>\n",
       "      <th>904</th>\n",
       "      <td>0DB3517B-44EE-4BCB-AA5F-2E5EB9B49007</td>\n",
       "      <td>42AEFCAF-588F-4BA9-AD98-C21358B910E3</td>\n",
       "      <td>C12C2DB7-D31A-4514-88C0-42CBD339F764</td>\n",
       "      <td>0</td>\n",
       "      <td>0 cigarettes per day (previous smoker)</td>\n",
       "      <td>3</td>\n",
       "    </tr>\n",
       "    <tr>\n",
       "      <th>699</th>\n",
       "      <td>1B7B3544-D2C8-4C79-9D70-23C1BFF97A09</td>\n",
       "      <td>631CD3C2-6E12-4FE1-9EB3-19086FB3FD21</td>\n",
       "      <td>5ABBAB35-836F-4F3E-8632-CE063828DA15</td>\n",
       "      <td>0</td>\n",
       "      <td>0 cigarettes per day (non-smoker or less than ...</td>\n",
       "      <td>4</td>\n",
       "    </tr>\n",
       "    <tr>\n",
       "      <th>4212</th>\n",
       "      <td>509495D1-FA83-4BBB-88EA-D9E56B3B06A2</td>\n",
       "      <td>1E7E90F6-0EDE-4B44-A0FB-0B9FA4CD200E</td>\n",
       "      <td>5ABBAB35-836F-4F3E-8632-CE063828DA15</td>\n",
       "      <td>1928</td>\n",
       "      <td>0 cigarettes per day (non-smoker or less than ...</td>\n",
       "      <td>4</td>\n",
       "    </tr>\n",
       "    <tr>\n",
       "      <th>4244</th>\n",
       "      <td>7879065D-AC40-4C33-A973-DC0DA903508C</td>\n",
       "      <td>862F8731-20B4-4653-8B70-9FE745DF1DE7</td>\n",
       "      <td>5ABBAB35-836F-4F3E-8632-CE063828DA15</td>\n",
       "      <td>1934</td>\n",
       "      <td>0 cigarettes per day (non-smoker or less than ...</td>\n",
       "      <td>4</td>\n",
       "    </tr>\n",
       "  </tbody>\n",
       "</table>\n",
       "</div>"
      ],
      "text/plain": [
       "                  PatientSmokingStatusGuid  \\\n",
       "4771  5B6BE503-1EF8-4D77-8E8C-F701AF04E490   \n",
       "904   0DB3517B-44EE-4BCB-AA5F-2E5EB9B49007   \n",
       "699   1B7B3544-D2C8-4C79-9D70-23C1BFF97A09   \n",
       "4212  509495D1-FA83-4BBB-88EA-D9E56B3B06A2   \n",
       "4244  7879065D-AC40-4C33-A973-DC0DA903508C   \n",
       "\n",
       "                               PatientGuid  \\\n",
       "4771  E4BBCBFE-5E18-4AC8-AB13-A82C899C45BA   \n",
       "904   42AEFCAF-588F-4BA9-AD98-C21358B910E3   \n",
       "699   631CD3C2-6E12-4FE1-9EB3-19086FB3FD21   \n",
       "4212  1E7E90F6-0EDE-4B44-A0FB-0B9FA4CD200E   \n",
       "4244  862F8731-20B4-4653-8B70-9FE745DF1DE7   \n",
       "\n",
       "                         SmokingStatusGuid  EffectiveYear  \\\n",
       "4771  FCD437AA-0451-4D8A-9396-B6F19D8B25E8              0   \n",
       "904   C12C2DB7-D31A-4514-88C0-42CBD339F764              0   \n",
       "699   5ABBAB35-836F-4F3E-8632-CE063828DA15              0   \n",
       "4212  5ABBAB35-836F-4F3E-8632-CE063828DA15           1928   \n",
       "4244  5ABBAB35-836F-4F3E-8632-CE063828DA15           1934   \n",
       "\n",
       "                                            Description  NISTcode  \n",
       "4771                                  1-2 packs per day         1  \n",
       "904              0 cigarettes per day (previous smoker)         3  \n",
       "699   0 cigarettes per day (non-smoker or less than ...         4  \n",
       "4212  0 cigarettes per day (non-smoker or less than ...         4  \n",
       "4244  0 cigarettes per day (non-smoker or less than ...         4  "
      ]
     },
     "execution_count": 53,
     "metadata": {},
     "output_type": "execute_result"
    }
   ],
   "source": [
    "Smoking_Merged.head(5)"
   ]
  },
  {
   "cell_type": "code",
   "execution_count": 54,
   "metadata": {},
   "outputs": [],
   "source": [
    "new_codes = [0]*Smoking_Merged.shape[0]\n",
    "for i in range(Smoking_Merged.shape[0]):\n",
    "    if Smoking_Merged['Description'].iloc[i] == '2 or more packs per day' or Smoking_Merged['Description'].iloc[i] == 'Up to 1 pack per day' or Smoking_Merged['Description'].iloc[i] == '1-2 packs per day':\n",
    "        new_codes[i] = 2\n",
    "    elif Smoking_Merged['Description'].iloc[i] == 'Current status unknown':\n",
    "        new_codes[i] = 5\n",
    "    elif Smoking_Merged['Description'].iloc[i] == 'Not a current tobacco user' or Smoking_Merged['Description'].iloc[i] == '0 cigarettes per day (previous smoker)':\n",
    "        new_codes[i] = 0\n",
    "    elif Smoking_Merged['Description'].iloc[i] == 'Few (1-3) cigarettes per day':\n",
    "        new_codes[i] = 1\n",
    "    elif Smoking_Merged['Description'].iloc[i] == '0 cigarettes per day (non-smoker or less than 100 in lifetime)':\n",
    "        new_codes[i] = 3\n",
    "    else:\n",
    "        new_codes[i] = 4\n",
    "Smoking_Merged['new_codes'] = new_codes"
   ]
  },
  {
   "cell_type": "code",
   "execution_count": 55,
   "metadata": {},
   "outputs": [],
   "source": [
    "Smoking_Merged.drop_duplicates(subset = 'PatientGuid', keep = 'last', inplace = True)"
   ]
  },
  {
   "cell_type": "code",
   "execution_count": 56,
   "metadata": {},
   "outputs": [
    {
     "data": {
      "text/plain": [
       "2011    1232\n",
       "2012     644\n",
       "2010       7\n",
       "2009       4\n",
       "2005       1\n",
       "1998       1\n",
       "1981       1\n",
       "1979       1\n",
       "1970       1\n",
       "1956       1\n",
       "1937       1\n",
       "1934       1\n",
       "1928       1\n",
       "0          1\n",
       "Name: EffectiveYear, dtype: int64"
      ]
     },
     "execution_count": 56,
     "metadata": {},
     "output_type": "execute_result"
    }
   ],
   "source": [
    "Smoking_Merged[Smoking_Merged['new_codes']==3]['EffectiveYear'].value_counts()"
   ]
  },
  {
   "cell_type": "markdown",
   "metadata": {},
   "source": [
    "# Flattening Sync Transcript"
   ]
  },
  {
   "cell_type": "code",
   "execution_count": 57,
   "metadata": {},
   "outputs": [
    {
     "data": {
      "text/plain": [
       "TranscriptGuid        0.000000\n",
       "PatientGuid           0.000000\n",
       "VisitYear             0.000000\n",
       "Height                0.541727\n",
       "Weight                0.000000\n",
       "BMI                   0.000000\n",
       "SystolicBP            0.346872\n",
       "DiastolicBP           0.346872\n",
       "RespiratoryRate       0.609314\n",
       "HeartRate             1.000000\n",
       "Temperature           0.618151\n",
       "PhysicianSpecialty    0.001381\n",
       "UserGuid              0.000000\n",
       "dtype: float64"
      ]
     },
     "execution_count": 57,
     "metadata": {},
     "output_type": "execute_result"
    }
   ],
   "source": [
    "training_SyncTranscript.isnull().sum()/training_SyncTranscript.shape[0] "
   ]
  },
  {
   "cell_type": "code",
   "execution_count": 58,
   "metadata": {},
   "outputs": [],
   "source": [
    "training_SyncTranscript.sort_values(by = 'VisitYear', ascending = True, inplace = True)"
   ]
  },
  {
   "cell_type": "code",
   "execution_count": 59,
   "metadata": {},
   "outputs": [],
   "source": [
    "training_SyncTranscript.drop_duplicates(subset = 'PatientGuid', keep = 'last', inplace = True)"
   ]
  },
  {
   "cell_type": "code",
   "execution_count": 60,
   "metadata": {},
   "outputs": [
    {
     "data": {
      "text/plain": [
       "(9948, 13)"
      ]
     },
     "execution_count": 60,
     "metadata": {},
     "output_type": "execute_result"
    }
   ],
   "source": [
    "training_SyncTranscript.shape"
   ]
  },
  {
   "cell_type": "markdown",
   "metadata": {},
   "source": [
    "It was possible that deleting duplicates in this case would result in the loss of information, aka more nulls, quick check is showing a decrease in nulls. "
   ]
  },
  {
   "cell_type": "code",
   "execution_count": 61,
   "metadata": {},
   "outputs": [
    {
     "data": {
      "text/plain": [
       "TranscriptGuid        0.000000\n",
       "PatientGuid           0.000000\n",
       "VisitYear             0.000000\n",
       "Height                0.396361\n",
       "Weight                0.000000\n",
       "BMI                   0.000000\n",
       "SystolicBP            0.238138\n",
       "DiastolicBP           0.238138\n",
       "RespiratoryRate       0.547849\n",
       "HeartRate             1.000000\n",
       "Temperature           0.537998\n",
       "PhysicianSpecialty    0.001809\n",
       "UserGuid              0.000000\n",
       "dtype: float64"
      ]
     },
     "execution_count": 61,
     "metadata": {},
     "output_type": "execute_result"
    }
   ],
   "source": [
    "training_SyncTranscript.isnull().sum()/training_SyncTranscript.shape[0] "
   ]
  },
  {
   "cell_type": "code",
   "execution_count": 62,
   "metadata": {},
   "outputs": [
    {
     "data": {
      "text/plain": [
       "Index(['TranscriptGuid', 'PatientGuid', 'VisitYear', 'Height', 'Weight', 'BMI',\n",
       "       'SystolicBP', 'DiastolicBP', 'RespiratoryRate', 'HeartRate',\n",
       "       'Temperature', 'PhysicianSpecialty', 'UserGuid'],\n",
       "      dtype='object')"
      ]
     },
     "execution_count": 62,
     "metadata": {},
     "output_type": "execute_result"
    }
   ],
   "source": [
    "training_SyncTranscript.columns"
   ]
  },
  {
   "cell_type": "code",
   "execution_count": 63,
   "metadata": {},
   "outputs": [],
   "source": [
    "comorbidity_list = [0]*training_SyncTranscript.shape[0]\n",
    "for i in range(training_SyncTranscript.shape[0]):\n",
    "    if training_SyncTranscript['PhysicianSpecialty'].iloc[i] == 'Physical Medicine & Rehabilitation' or training_SyncTranscript['PhysicianSpecialty'].iloc[i] == 'Nephrology' or training_SyncTranscript['PhysicianSpecialty'].iloc[i] == 'Pulmonary Disease' or training_SyncTranscript['PhysicianSpecialty'].iloc[i] == 'Endocrinology; Diabetes; & Metabolism' or training_SyncTranscript['PhysicianSpecialty'].iloc[i] == 'Rheumatology' :\n",
    "        comorbidity_list[i] = 1\n",
    "    else:\n",
    "        comorbidity_list[i] = 0"
   ]
  },
  {
   "cell_type": "code",
   "execution_count": 64,
   "metadata": {},
   "outputs": [],
   "source": [
    "training_SyncTranscript['Comorbidity'] = comorbidity_list"
   ]
  },
  {
   "cell_type": "markdown",
   "metadata": {},
   "source": [
    "Now, going to impute values. There doesn't seem to be a very good method due to the high volume of missing values. Going to merge in age/gender and impute values with the average for said population. "
   ]
  },
  {
   "cell_type": "code",
   "execution_count": 65,
   "metadata": {},
   "outputs": [],
   "source": [
    "Transcript = training_SyncTranscript.merge(test_SyncPatient[{'PatientGuid','Gender','YearOfBirth'}], how = 'left', on = 'PatientGuid')"
   ]
  },
  {
   "cell_type": "code",
   "execution_count": 66,
   "metadata": {},
   "outputs": [],
   "source": [
    "Transcript['Age'] = 2019 - Transcript['YearOfBirth']"
   ]
  },
  {
   "cell_type": "code",
   "execution_count": 67,
   "metadata": {},
   "outputs": [
    {
     "data": {
      "text/html": [
       "<div>\n",
       "<style scoped>\n",
       "    .dataframe tbody tr th:only-of-type {\n",
       "        vertical-align: middle;\n",
       "    }\n",
       "\n",
       "    .dataframe tbody tr th {\n",
       "        vertical-align: top;\n",
       "    }\n",
       "\n",
       "    .dataframe thead th {\n",
       "        text-align: right;\n",
       "    }\n",
       "</style>\n",
       "<table border=\"1\" class=\"dataframe\">\n",
       "  <thead>\n",
       "    <tr style=\"text-align: right;\">\n",
       "      <th></th>\n",
       "      <th>YearOfBirth</th>\n",
       "      <th>Age</th>\n",
       "    </tr>\n",
       "  </thead>\n",
       "  <tbody>\n",
       "    <tr>\n",
       "      <th>0</th>\n",
       "      <td>1948</td>\n",
       "      <td>71</td>\n",
       "    </tr>\n",
       "    <tr>\n",
       "      <th>1</th>\n",
       "      <td>1953</td>\n",
       "      <td>66</td>\n",
       "    </tr>\n",
       "    <tr>\n",
       "      <th>2</th>\n",
       "      <td>1958</td>\n",
       "      <td>61</td>\n",
       "    </tr>\n",
       "    <tr>\n",
       "      <th>3</th>\n",
       "      <td>1972</td>\n",
       "      <td>47</td>\n",
       "    </tr>\n",
       "    <tr>\n",
       "      <th>4</th>\n",
       "      <td>1961</td>\n",
       "      <td>58</td>\n",
       "    </tr>\n",
       "    <tr>\n",
       "      <th>5</th>\n",
       "      <td>1940</td>\n",
       "      <td>79</td>\n",
       "    </tr>\n",
       "    <tr>\n",
       "      <th>6</th>\n",
       "      <td>1982</td>\n",
       "      <td>37</td>\n",
       "    </tr>\n",
       "    <tr>\n",
       "      <th>7</th>\n",
       "      <td>1948</td>\n",
       "      <td>71</td>\n",
       "    </tr>\n",
       "    <tr>\n",
       "      <th>8</th>\n",
       "      <td>1922</td>\n",
       "      <td>97</td>\n",
       "    </tr>\n",
       "    <tr>\n",
       "      <th>9</th>\n",
       "      <td>1961</td>\n",
       "      <td>58</td>\n",
       "    </tr>\n",
       "  </tbody>\n",
       "</table>\n",
       "</div>"
      ],
      "text/plain": [
       "   YearOfBirth  Age\n",
       "0         1948   71\n",
       "1         1953   66\n",
       "2         1958   61\n",
       "3         1972   47\n",
       "4         1961   58\n",
       "5         1940   79\n",
       "6         1982   37\n",
       "7         1948   71\n",
       "8         1922   97\n",
       "9         1961   58"
      ]
     },
     "execution_count": 67,
     "metadata": {},
     "output_type": "execute_result"
    }
   ],
   "source": [
    "Transcript[{'Age','YearOfBirth'}].head(10)"
   ]
  },
  {
   "cell_type": "markdown",
   "metadata": {},
   "source": [
    "Taking a look at age to determine the min and max age. Next will be creating buckets and then dictionaries that contain the average BMI, weight, etc for every gender/age combination. This dictionary will then be used in a for loop to fill in any values that are either NaN or 0. "
   ]
  },
  {
   "cell_type": "code",
   "execution_count": 68,
   "metadata": {},
   "outputs": [
    {
     "data": {
      "text/plain": [
       "25"
      ]
     },
     "execution_count": 68,
     "metadata": {},
     "output_type": "execute_result"
    }
   ],
   "source": [
    "Transcript['Age'].min()"
   ]
  },
  {
   "cell_type": "code",
   "execution_count": 69,
   "metadata": {},
   "outputs": [
    {
     "data": {
      "text/plain": [
       "97"
      ]
     },
     "execution_count": 69,
     "metadata": {},
     "output_type": "execute_result"
    }
   ],
   "source": [
    "Transcript['Age'].max()"
   ]
  },
  {
   "cell_type": "code",
   "execution_count": 70,
   "metadata": {},
   "outputs": [],
   "source": [
    "bins = [0,30,35,39,45,49,55,59,65,69,75,79,85,89, np.inf]\n",
    "names = ['<30', '30-34','35-39','40-44','45-49','50-54','55-59','60-64','65-69','70-74','75-79','80-84','85-89','90+']\n",
    "Transcript['Age_Range'] = pd.cut(Transcript['Age'], bins, labels=names)"
   ]
  },
  {
   "cell_type": "code",
   "execution_count": 71,
   "metadata": {},
   "outputs": [],
   "source": [
    "Transcript_Male = Transcript[Transcript['Gender']=='M']\n",
    "Transcript_Female = Transcript[Transcript['Gender']=='F']"
   ]
  },
  {
   "cell_type": "code",
   "execution_count": 72,
   "metadata": {},
   "outputs": [],
   "source": [
    "BMI_Male = Transcript_Male[Transcript_Male['BMI'].notnull()].pivot_table(['BMI'],index = ['Age_Range'], aggfunc='mean')\n",
    "BMI_Male_dict = BMI_Male.T.to_dict('records')\n",
    "\n",
    "BMI_Female = Transcript_Female[Transcript_Female['BMI'].notnull()].pivot_table(['BMI'],index = ['Age_Range'], aggfunc='mean')\n",
    "BMI_Female_dict = BMI_Male.T.to_dict('records')\n",
    "\n",
    "Weight_Male = Transcript_Male[Transcript_Male['Weight'].notnull()].pivot_table(['Weight'],index = ['Age_Range'], aggfunc='mean')\n",
    "Weight_Male_dict = BMI_Male.T.to_dict('records')\n",
    "\n",
    "Weight_Female = Transcript_Female[Transcript_Female['Weight'].notnull()].pivot_table(['Weight'],index = ['Age_Range'], aggfunc='mean')\n",
    "Weight_Female_dict = BMI_Male.T.to_dict('records')\n",
    "\n",
    "SystolicBP_Male = Transcript_Male[Transcript_Male['SystolicBP'].notnull()].pivot_table(['SystolicBP'],index = ['Age_Range'], aggfunc='mean')\n",
    "SystolicBP_Male_dict = BMI_Male.T.to_dict('records')\n",
    "\n",
    "DiastolicBP_Male = Transcript_Male[Transcript_Male['DiastolicBP'].notnull()].pivot_table(['DiastolicBP'],index = ['Age_Range'], aggfunc='mean')\n",
    "DiastolicBP_Male_dict = BMI_Male.T.to_dict('records')\n",
    "\n",
    "SystolicBP_Female = Transcript_Female[Transcript_Female['SystolicBP'].notnull()].pivot_table(['SystolicBP'],index = ['Age_Range'], aggfunc='mean')\n",
    "SystolicBP_Female_dict = BMI_Male.T.to_dict('records')\n",
    "\n",
    "DiastolicBP_Female = Transcript_Female[Transcript_Female['DiastolicBP'].notnull()].pivot_table(['DiastolicBP'],index = ['Age_Range'], aggfunc='mean')\n",
    "DiastolicBP_Female_dict = BMI_Male.T.to_dict('records')"
   ]
  },
  {
   "cell_type": "code",
   "execution_count": 73,
   "metadata": {},
   "outputs": [],
   "source": [
    "new_bmi = [0]*Transcript.shape[0]\n",
    "new_weight = [0]*Transcript.shape[0]\n",
    "new_Diastolic = [0]*Transcript.shape[0]\n",
    "new_Systolic = [0]*Transcript.shape[0]"
   ]
  },
  {
   "cell_type": "code",
   "execution_count": 74,
   "metadata": {},
   "outputs": [],
   "source": [
    "for i in range(Transcript.shape[0]):\n",
    "    if (pd.isnull(Transcript['Weight'].iloc[i])) or (Transcript['Weight'].iloc[i] == 0):\n",
    "        if Transcript['Gender'].iloc[i] == 'M':\n",
    "            new_weight[i] = Weight_Male_dict[0].get(Transcript['Age_Range'].iloc[i])\n",
    "        else:\n",
    "            new_weight[i] = Weight_Female_dict[0].get(Transcript['Age_Range'].iloc[i])\n",
    "    else:\n",
    "        new_weight[i] = Transcript['Weight'].iloc[i]"
   ]
  },
  {
   "cell_type": "code",
   "execution_count": 75,
   "metadata": {},
   "outputs": [],
   "source": [
    "for i in range(Transcript.shape[0]):\n",
    "    if pd.isnull(Transcript['BMI'].iloc[i]) or Transcript['BMI'].iloc[i] == 0:\n",
    "        if Transcript['Gender'].iloc[i] == 'M':\n",
    "            new_bmi[i] = BMI_Male_dict[0].get(Transcript['Age_Range'].iloc[i])\n",
    "        else:\n",
    "            new_bmi[i] = BMI_Female_dict[0].get(Transcript['Age_Range'].iloc[i])\n",
    "    else:\n",
    "        new_bmi[i] = Transcript['BMI'].iloc[i]"
   ]
  },
  {
   "cell_type": "code",
   "execution_count": 76,
   "metadata": {},
   "outputs": [],
   "source": [
    "for i in range(Transcript.shape[0]):\n",
    "    if pd.isnull(Transcript['DiastolicBP'].iloc[i]) or Transcript['DiastolicBP'].iloc[i] == 0:\n",
    "        if Transcript['Gender'].iloc[i] == 'M':\n",
    "            new_Diastolic[i] = DiastolicBP_Male_dict[0].get(Transcript['Age_Range'].iloc[i])\n",
    "        else:\n",
    "            new_Diastolic[i] = DiastolicBP_Female_dict[0].get(Transcript['Age_Range'].iloc[i])\n",
    "    else:\n",
    "        new_Diastolic[i] = Transcript['DiastolicBP'].iloc[i]"
   ]
  },
  {
   "cell_type": "code",
   "execution_count": 77,
   "metadata": {},
   "outputs": [],
   "source": [
    "for i in range(Transcript.shape[0]):\n",
    "    if pd.isnull(Transcript['SystolicBP'].iloc[i]) or Transcript['SystolicBP'].iloc[i] == 0:\n",
    "        if Transcript['Gender'].iloc[i] == 'M':\n",
    "            new_Systolic[i] = SystolicBP_Male_dict[0].get(Transcript['Age_Range'].iloc[i])\n",
    "        else:\n",
    "            new_Systolic[i] = SystolicBP_Female_dict[0].get(Transcript['Age_Range'].iloc[i])\n",
    "    else:\n",
    "        new_Systolic[i] = Transcript['SystolicBP'].iloc[i]"
   ]
  },
  {
   "cell_type": "code",
   "execution_count": 78,
   "metadata": {},
   "outputs": [],
   "source": [
    "Transcript['New_BMI'] = new_bmi\n",
    "Transcript['New_Weight'] = new_weight\n",
    "Transcript['New_DiastolicBP'] = new_Diastolic\n",
    "Transcript['New_SystolicBP'] = new_Systolic"
   ]
  },
  {
   "cell_type": "code",
   "execution_count": 79,
   "metadata": {},
   "outputs": [
    {
     "data": {
      "text/plain": [
       "Index(['TranscriptGuid', 'PatientGuid', 'VisitYear', 'Height', 'Weight', 'BMI',\n",
       "       'SystolicBP', 'DiastolicBP', 'RespiratoryRate', 'HeartRate',\n",
       "       'Temperature', 'PhysicianSpecialty', 'UserGuid', 'Comorbidity',\n",
       "       'YearOfBirth', 'Gender', 'Age', 'Age_Range', 'New_BMI', 'New_Weight',\n",
       "       'New_DiastolicBP', 'New_SystolicBP'],\n",
       "      dtype='object')"
      ]
     },
     "execution_count": 79,
     "metadata": {},
     "output_type": "execute_result"
    }
   ],
   "source": [
    "Transcript.columns"
   ]
  },
  {
   "cell_type": "markdown",
   "metadata": {},
   "source": [
    "Filling in the Nulls for Height now. Since height likely doesn't change much from 25+ (likely some decrease when you're older but otherwise should be fairly consistent), going to fill in the average height for gender. "
   ]
  },
  {
   "cell_type": "code",
   "execution_count": 80,
   "metadata": {},
   "outputs": [],
   "source": [
    "average_height_male = Transcript[(Transcript['Height'].notnull()) & (Transcript['Gender']=='M')]['Height'].mean()\n",
    "average_height_female = Transcript[(Transcript['Height'].notnull()) & (Transcript['Gender']=='F')]['Height'].mean()"
   ]
  },
  {
   "cell_type": "code",
   "execution_count": 81,
   "metadata": {},
   "outputs": [
    {
     "name": "stdout",
     "output_type": "stream",
     "text": [
      "average height of males is... 69.06996321321321\n",
      "average height of females is... 63.44830589643816\n"
     ]
    }
   ],
   "source": [
    "print(\"average height of males is...\",average_height_male)\n",
    "print(\"average height of females is...\",average_height_female)"
   ]
  },
  {
   "cell_type": "code",
   "execution_count": 82,
   "metadata": {},
   "outputs": [],
   "source": [
    "TM = Transcript[Transcript['Gender']=='M'].copy()\n",
    "TF = Transcript[Transcript['Gender']=='F'].copy()"
   ]
  },
  {
   "cell_type": "code",
   "execution_count": 83,
   "metadata": {},
   "outputs": [],
   "source": [
    "TM['Height'].fillna(value=average_height_male, inplace = True)\n",
    "TF['Height'].fillna(value=average_height_female, inplace = True)"
   ]
  },
  {
   "cell_type": "code",
   "execution_count": 84,
   "metadata": {},
   "outputs": [],
   "source": [
    "Transcript_Final = pd.concat([TM,TF])"
   ]
  },
  {
   "cell_type": "code",
   "execution_count": 85,
   "metadata": {},
   "outputs": [],
   "source": [
    "Transcript_Final.drop(['BMI','Weight','DiastolicBP','SystolicBP','Age','Gender','YearOfBirth'], axis = 1, inplace = True)"
   ]
  },
  {
   "cell_type": "code",
   "execution_count": 86,
   "metadata": {},
   "outputs": [],
   "source": [
    "Transcript_Final.rename(columns = {'New_BMI':'BMI','New_Weight':'Weight','New_DiastolicBP':'DiastolicBP','New_SystolicBP':'SystolicBP'}, inplace = True)"
   ]
  },
  {
   "cell_type": "code",
   "execution_count": 87,
   "metadata": {},
   "outputs": [
    {
     "data": {
      "text/plain": [
       "TranscriptGuid           0\n",
       "PatientGuid              0\n",
       "VisitYear                0\n",
       "Height                   0\n",
       "RespiratoryRate       5450\n",
       "HeartRate             9948\n",
       "Temperature           5352\n",
       "PhysicianSpecialty      18\n",
       "UserGuid                 0\n",
       "Comorbidity              0\n",
       "Age_Range                0\n",
       "BMI                      0\n",
       "Weight                   0\n",
       "DiastolicBP              0\n",
       "SystolicBP               0\n",
       "dtype: int64"
      ]
     },
     "execution_count": 87,
     "metadata": {},
     "output_type": "execute_result"
    }
   ],
   "source": [
    "Transcript_Final.isnull().sum() # we will not be using respitoryrate, heartrate, or temperature this time around. "
   ]
  },
  {
   "cell_type": "markdown",
   "metadata": {},
   "source": [
    "Now, merging in all of the files into one. "
   ]
  },
  {
   "cell_type": "code",
   "execution_count": 88,
   "metadata": {},
   "outputs": [],
   "source": [
    "train_test_SyncPatient = test_SyncPatient.merge(training_SyncPatient[{'PatientGuid','DMIndicator'}], how = 'left', on = 'PatientGuid')"
   ]
  },
  {
   "cell_type": "code",
   "execution_count": 89,
   "metadata": {},
   "outputs": [],
   "source": [
    "SP_SD = train_test_SyncPatient.merge(Final_SyncDiagnosis, how = 'left',on = 'PatientGuid')"
   ]
  },
  {
   "cell_type": "code",
   "execution_count": 90,
   "metadata": {},
   "outputs": [
    {
     "data": {
      "text/plain": [
       "(9948, 7)"
      ]
     },
     "execution_count": 90,
     "metadata": {},
     "output_type": "execute_result"
    }
   ],
   "source": [
    "SP_SD.shape"
   ]
  },
  {
   "cell_type": "code",
   "execution_count": 91,
   "metadata": {},
   "outputs": [],
   "source": [
    "SP_SD_SM = SP_SD.merge(training_SyncMedication, how = 'left', on ='PatientGuid')"
   ]
  },
  {
   "cell_type": "code",
   "execution_count": 92,
   "metadata": {},
   "outputs": [
    {
     "data": {
      "text/plain": [
       "(9948, 8)"
      ]
     },
     "execution_count": 92,
     "metadata": {},
     "output_type": "execute_result"
    }
   ],
   "source": [
    "SP_SD_SM.shape"
   ]
  },
  {
   "cell_type": "code",
   "execution_count": 93,
   "metadata": {},
   "outputs": [
    {
     "data": {
      "text/plain": [
       "Index(['TranscriptGuid', 'PatientGuid', 'VisitYear', 'Height',\n",
       "       'RespiratoryRate', 'HeartRate', 'Temperature', 'PhysicianSpecialty',\n",
       "       'UserGuid', 'Comorbidity', 'Age_Range', 'BMI', 'Weight', 'DiastolicBP',\n",
       "       'SystolicBP'],\n",
       "      dtype='object')"
      ]
     },
     "execution_count": 93,
     "metadata": {},
     "output_type": "execute_result"
    }
   ],
   "source": [
    "Transcript_Final.columns"
   ]
  },
  {
   "cell_type": "code",
   "execution_count": 94,
   "metadata": {},
   "outputs": [],
   "source": [
    "SP_SD_SM_SS = SP_SD_SM.merge(Smoking_Merged[{'PatientGuid','EffectiveYear','new_codes'}], how = 'left',on = 'PatientGuid')"
   ]
  },
  {
   "cell_type": "code",
   "execution_count": 95,
   "metadata": {},
   "outputs": [
    {
     "data": {
      "text/plain": [
       "(9948, 10)"
      ]
     },
     "execution_count": 95,
     "metadata": {},
     "output_type": "execute_result"
    }
   ],
   "source": [
    "SP_SD_SM_SS.shape"
   ]
  },
  {
   "cell_type": "code",
   "execution_count": 96,
   "metadata": {},
   "outputs": [],
   "source": [
    "SP_SD_SM_SS_T = SP_SD_SM_SS.merge(Transcript_Final[{'PatientGuid','Height','BMI','Weight','DiastolicBP','SystolicBP','Comorbidity'}], how = 'left', on ='PatientGuid')"
   ]
  },
  {
   "cell_type": "code",
   "execution_count": 97,
   "metadata": {},
   "outputs": [
    {
     "data": {
      "text/plain": [
       "(9948, 16)"
      ]
     },
     "execution_count": 97,
     "metadata": {},
     "output_type": "execute_result"
    }
   ],
   "source": [
    "SP_SD_SM_SS_T.shape"
   ]
  },
  {
   "cell_type": "markdown",
   "metadata": {},
   "source": [
    "Final round of imputation, cleaning, and feature engineering"
   ]
  },
  {
   "cell_type": "code",
   "execution_count": 98,
   "metadata": {},
   "outputs": [
    {
     "data": {
      "text/plain": [
       "PatientGuid                0\n",
       "Gender                     0\n",
       "YearOfBirth                0\n",
       "State                      0\n",
       "PracticeGuid               0\n",
       "DMIndicator             3348\n",
       "ICD_Bucket                 0\n",
       "Count_of_Medications     102\n",
       "EffectiveYear           5521\n",
       "new_codes               5521\n",
       "BMI                        0\n",
       "DiastolicBP                0\n",
       "SystolicBP                 0\n",
       "Height                     0\n",
       "Weight                     0\n",
       "Comorbidity                0\n",
       "dtype: int64"
      ]
     },
     "execution_count": 98,
     "metadata": {},
     "output_type": "execute_result"
    }
   ],
   "source": [
    "SP_SD_SM_SS_T.isnull().sum()"
   ]
  },
  {
   "cell_type": "markdown",
   "metadata": {},
   "source": [
    "New codes is the redone smoking status bucketing/grouping. Thus if we do not know their status, going to lump these into the unknown category with the tohers. "
   ]
  },
  {
   "cell_type": "code",
   "execution_count": 99,
   "metadata": {},
   "outputs": [],
   "source": [
    "SP_SD_SM_SS_T['new_codes'].fillna(value=5, inplace = True)"
   ]
  },
  {
   "cell_type": "markdown",
   "metadata": {},
   "source": [
    "Not too many NANs within the medications, going to fill this in with median. "
   ]
  },
  {
   "cell_type": "code",
   "execution_count": 100,
   "metadata": {},
   "outputs": [
    {
     "data": {
      "text/plain": [
       "3.0"
      ]
     },
     "execution_count": 100,
     "metadata": {},
     "output_type": "execute_result"
    }
   ],
   "source": [
    "SP_SD_SM_SS_T['Count_of_Medications'].median()"
   ]
  },
  {
   "cell_type": "code",
   "execution_count": 101,
   "metadata": {},
   "outputs": [],
   "source": [
    "SP_SD_SM_SS_T['Count_of_Medications'].fillna(value=3, inplace = True)"
   ]
  },
  {
   "cell_type": "code",
   "execution_count": 102,
   "metadata": {},
   "outputs": [
    {
     "data": {
      "text/plain": [
       "Index(['PatientGuid', 'Gender', 'YearOfBirth', 'State', 'PracticeGuid',\n",
       "       'DMIndicator', 'ICD_Bucket', 'Count_of_Medications', 'EffectiveYear',\n",
       "       'new_codes', 'BMI', 'DiastolicBP', 'SystolicBP', 'Height', 'Weight',\n",
       "       'Comorbidity'],\n",
       "      dtype='object')"
      ]
     },
     "execution_count": 102,
     "metadata": {},
     "output_type": "execute_result"
    }
   ],
   "source": [
    "SP_SD_SM_SS_T.columns"
   ]
  },
  {
   "cell_type": "markdown",
   "metadata": {},
   "source": [
    "Lastly, some regions of the country have higher instances of obesity and diabetes. Grouping these together"
   ]
  },
  {
   "cell_type": "code",
   "execution_count": 103,
   "metadata": {},
   "outputs": [],
   "source": [
    "def region(State):\n",
    "    if State == 'CT' or State == 'ME' or State == 'MA' or State == 'NH' or State == 'RI' or State == 'VT' or State == 'NJ' or State == 'NY' or State == 'PA':\n",
    "        return 0\n",
    "    elif State == 'IL' or State == 'IN' or State == 'MI' or State == 'OH' or State == 'WI' or State == 'IA' or State == 'KS' or State == 'MN' or State == 'MO' or State == 'NE' or State == 'ND' or State == 'SD':\n",
    "        return 1\n",
    "    elif State == 'AZ' or State == 'CO' or State == 'ID' or State == 'MT' or State == 'NV' or State == 'NM' or State == 'UT' or State == 'WY' or State == 'AK' or State == 'CA' or State == 'HI' or State == 'OR' or State == 'WA':\n",
    "        return 2\n",
    "    elif State == 'DE' or State == 'FL' or State == 'GA' or State == 'MD' or State == 'NC' or State == 'SC' or State == 'VA' or State == 'DC' or State == 'WV' or State == 'AL' or State == 'KY' or State == 'MS' or State == 'TN' or State == 'AR' or State == 'OK' or State == 'TX' or State == 'LA':\n",
    "        return 3\n",
    "    else:\n",
    "        return 4"
   ]
  },
  {
   "cell_type": "code",
   "execution_count": 104,
   "metadata": {},
   "outputs": [],
   "source": [
    "Region = [ region(State) for State in SP_SD_SM_SS_T.State]"
   ]
  },
  {
   "cell_type": "code",
   "execution_count": 105,
   "metadata": {},
   "outputs": [],
   "source": [
    "SP_SD_SM_SS_T['Region'] = Region"
   ]
  },
  {
   "cell_type": "code",
   "execution_count": 106,
   "metadata": {},
   "outputs": [
    {
     "data": {
      "text/plain": [
       "Index(['PatientGuid', 'Gender', 'YearOfBirth', 'State', 'PracticeGuid',\n",
       "       'DMIndicator', 'ICD_Bucket', 'Count_of_Medications', 'EffectiveYear',\n",
       "       'new_codes', 'BMI', 'DiastolicBP', 'SystolicBP', 'Height', 'Weight',\n",
       "       'Comorbidity', 'Region'],\n",
       "      dtype='object')"
      ]
     },
     "execution_count": 106,
     "metadata": {},
     "output_type": "execute_result"
    }
   ],
   "source": [
    "SP_SD_SM_SS_T.columns"
   ]
  },
  {
   "cell_type": "code",
   "execution_count": 107,
   "metadata": {},
   "outputs": [],
   "source": [
    "SP_SD_SM_SS_T['Age'] = 2019 - SP_SD_SM_SS_T['YearOfBirth']"
   ]
  },
  {
   "cell_type": "code",
   "execution_count": 108,
   "metadata": {},
   "outputs": [],
   "source": [
    "bins = [0,49,57,np.inf]\n",
    "names = [0,1,2]\n",
    "SP_SD_SM_SS_T['Age_Bucket'] = pd.cut(SP_SD_SM_SS_T['Age'], bins, labels=names)"
   ]
  },
  {
   "cell_type": "code",
   "execution_count": 109,
   "metadata": {},
   "outputs": [],
   "source": [
    "class_le = LabelEncoder()\n",
    "SP_SD_SM_SS_T['Gender_New'] = class_le.fit_transform(SP_SD_SM_SS_T['Gender'])"
   ]
  },
  {
   "cell_type": "code",
   "execution_count": 110,
   "metadata": {},
   "outputs": [],
   "source": [
    "SP_SD_SM_SS_T.drop(['EffectiveYear','State','Age','YearOfBirth','Gender','PracticeGuid'], axis = 1, inplace = True)"
   ]
  },
  {
   "cell_type": "code",
   "execution_count": 111,
   "metadata": {},
   "outputs": [],
   "source": [
    "SP_SD_SM_SS_T.rename(columns = {'Gender_New':'Gender','new_codes':'RE_NISTcode'},inplace = True)"
   ]
  },
  {
   "cell_type": "code",
   "execution_count": 112,
   "metadata": {
    "scrolled": true
   },
   "outputs": [
    {
     "data": {
      "text/plain": [
       "Index(['PatientGuid', 'DMIndicator', 'ICD_Bucket', 'Count_of_Medications',\n",
       "       'RE_NISTcode', 'BMI', 'DiastolicBP', 'SystolicBP', 'Height', 'Weight',\n",
       "       'Comorbidity', 'Region', 'Age_Bucket', 'Gender'],\n",
       "      dtype='object')"
      ]
     },
     "execution_count": 112,
     "metadata": {},
     "output_type": "execute_result"
    }
   ],
   "source": [
    "SP_SD_SM_SS_T.columns"
   ]
  },
  {
   "cell_type": "code",
   "execution_count": 113,
   "metadata": {
    "scrolled": true
   },
   "outputs": [
    {
     "data": {
      "text/plain": [
       "PatientGuid                0\n",
       "DMIndicator             3348\n",
       "ICD_Bucket                 0\n",
       "Count_of_Medications       0\n",
       "RE_NISTcode                0\n",
       "BMI                        0\n",
       "DiastolicBP                0\n",
       "SystolicBP                 0\n",
       "Height                     0\n",
       "Weight                     0\n",
       "Comorbidity                0\n",
       "Region                     0\n",
       "Age_Bucket                 0\n",
       "Gender                     0\n",
       "dtype: int64"
      ]
     },
     "execution_count": 113,
     "metadata": {},
     "output_type": "execute_result"
    }
   ],
   "source": [
    "SP_SD_SM_SS_T.isnull().sum()"
   ]
  },
  {
   "cell_type": "markdown",
   "metadata": {},
   "source": [
    "# Modeling"
   ]
  },
  {
   "cell_type": "markdown",
   "metadata": {},
   "source": [
    "Now, splitting data up into our train and test sets. Do note that we did not use one hot encoding as the first model we are running is random forest. For our metrics, note that we will be taking a look at precision, recall, and f1 score to determine what model we want to use. Then, we will take a look at brier score in order to calibrate our model. "
   ]
  },
  {
   "cell_type": "code",
   "execution_count": 114,
   "metadata": {},
   "outputs": [],
   "source": [
    "train = SP_SD_SM_SS_T[SP_SD_SM_SS_T['DMIndicator'].notnull()]\n",
    "test = SP_SD_SM_SS_T[SP_SD_SM_SS_T['DMIndicator'].isnull()]"
   ]
  },
  {
   "cell_type": "code",
   "execution_count": 115,
   "metadata": {},
   "outputs": [
    {
     "data": {
      "text/plain": [
       "(6600, 14)"
      ]
     },
     "execution_count": 115,
     "metadata": {},
     "output_type": "execute_result"
    }
   ],
   "source": [
    "train.shape"
   ]
  },
  {
   "cell_type": "code",
   "execution_count": 116,
   "metadata": {},
   "outputs": [
    {
     "data": {
      "text/plain": [
       "(3348, 14)"
      ]
     },
     "execution_count": 116,
     "metadata": {},
     "output_type": "execute_result"
    }
   ],
   "source": [
    "test.shape"
   ]
  },
  {
   "cell_type": "code",
   "execution_count": 117,
   "metadata": {},
   "outputs": [],
   "source": [
    "# Separate input features (X) and target variable (y)\n",
    "y = train['DMIndicator']\n",
    "x = train.drop(columns = ['DMIndicator','PatientGuid'], axis=1)\n",
    "x_cols = x.columns"
   ]
  },
  {
   "cell_type": "code",
   "execution_count": 118,
   "metadata": {},
   "outputs": [],
   "source": [
    "scaler = StandardScaler() #scaling our features due to various ranges\n",
    "x = scaler.fit_transform(x)"
   ]
  },
  {
   "cell_type": "code",
   "execution_count": 119,
   "metadata": {},
   "outputs": [],
   "source": [
    "x_train, x_test, y_train, y_test = train_test_split(x, y, test_size=0.25, random_state = 1)"
   ]
  },
  {
   "cell_type": "code",
   "execution_count": 120,
   "metadata": {},
   "outputs": [],
   "source": [
    "model_for = RandomForestClassifier()\n",
    "\n",
    "#fit model\n",
    "model_for.fit(x_train, y_train)\n",
    "\n",
    "#create predictions based on model\n",
    "y_pred_for = model_for.predict(x_test)"
   ]
  },
  {
   "cell_type": "markdown",
   "metadata": {},
   "source": [
    "Due to the class imbalance, our model is excellent at predicting the 0 class but pretty bad at predicting 1s. Undersampling and oversampling techniques such as SMOTE and nearmiss would be beneficial. "
   ]
  },
  {
   "cell_type": "code",
   "execution_count": 121,
   "metadata": {
    "scrolled": true
   },
   "outputs": [
    {
     "name": "stdout",
     "output_type": "stream",
     "text": [
      "              precision    recall  f1-score   support\n",
      "\n",
      "         0.0       0.82      0.95      0.88      1334\n",
      "         1.0       0.39      0.14      0.20       316\n",
      "\n",
      "    accuracy                           0.79      1650\n",
      "   macro avg       0.61      0.54      0.54      1650\n",
      "weighted avg       0.74      0.79      0.75      1650\n",
      "\n"
     ]
    }
   ],
   "source": [
    "print(metrics.classification_report(y_test, y_pred_for))"
   ]
  },
  {
   "cell_type": "code",
   "execution_count": 122,
   "metadata": {
    "scrolled": true
   },
   "outputs": [
    {
     "data": {
      "image/png": "[encoded data removed]",
      "text/plain": [
       "<Figure size 432x288 with 1 Axes>"
      ]
     },
     "metadata": {
      "needs_background": "light"
     },
     "output_type": "display_data"
    }
   ],
   "source": [
    "import matplotlib.pyplot as plt\n",
    "# Create a pd.Series of features importances\n",
    "importances_random_forest = pd.Series(model_for.feature_importances_,\n",
    "index = x_cols)\n",
    "# Sort importances_rf\n",
    "sorted_importances_random_forest = importances_random_forest.sort_values()\n",
    "# Make a horizontal bar plot\n",
    "sorted_importances_random_forest.plot(kind='barh', color='blue')\n",
    "plt.show()"
   ]
  },
  {
   "cell_type": "code",
   "execution_count": 123,
   "metadata": {},
   "outputs": [
    {
     "name": "stderr",
     "output_type": "stream",
     "text": [
      "Using TensorFlow backend.\n"
     ]
    }
   ],
   "source": [
    "from imblearn.pipeline import Pipeline \n",
    "from imblearn.over_sampling import SMOTE\n",
    "from imblearn.under_sampling import NearMiss"
   ]
  },
  {
   "cell_type": "code",
   "execution_count": 124,
   "metadata": {},
   "outputs": [],
   "source": [
    "x_train, x_test, y_train, y_test = train_test_split(x, y, test_size=0.25, random_state = 1)"
   ]
  },
  {
   "cell_type": "code",
   "execution_count": 125,
   "metadata": {},
   "outputs": [
    {
     "data": {
      "text/plain": [
       "array([4000, 4000], dtype=int64)"
      ]
     },
     "execution_count": 125,
     "metadata": {},
     "output_type": "execute_result"
    }
   ],
   "source": [
    "smt = SMOTE()\n",
    "x_train, y_train = smt.fit_sample(x_train, y_train)\n",
    "np.bincount(y_train)"
   ]
  },
  {
   "cell_type": "code",
   "execution_count": 126,
   "metadata": {},
   "outputs": [],
   "source": [
    "model_for = RandomForestClassifier()\n",
    "\n",
    "#fit model\n",
    "model_for.fit(x_train, y_train)\n",
    "\n",
    "#create predictions based on model\n",
    "y_pred_for = model_for.predict(x_test)"
   ]
  },
  {
   "cell_type": "code",
   "execution_count": 127,
   "metadata": {
    "scrolled": true
   },
   "outputs": [
    {
     "name": "stdout",
     "output_type": "stream",
     "text": [
      "              precision    recall  f1-score   support\n",
      "\n",
      "         0.0       0.84      0.88      0.86      1334\n",
      "         1.0       0.36      0.29      0.32       316\n",
      "\n",
      "    accuracy                           0.76      1650\n",
      "   macro avg       0.60      0.58      0.59      1650\n",
      "weighted avg       0.75      0.76      0.76      1650\n",
      "\n"
     ]
    }
   ],
   "source": [
    "print(metrics.classification_report(y_test, y_pred_for))"
   ]
  },
  {
   "cell_type": "code",
   "execution_count": 128,
   "metadata": {},
   "outputs": [],
   "source": [
    "x_train, x_test, y_train, y_test = train_test_split(x, y, test_size=0.25, random_state = 1)"
   ]
  },
  {
   "cell_type": "code",
   "execution_count": 129,
   "metadata": {},
   "outputs": [
    {
     "data": {
      "text/plain": [
       "array([950, 950], dtype=int64)"
      ]
     },
     "execution_count": 129,
     "metadata": {},
     "output_type": "execute_result"
    }
   ],
   "source": [
    "nr = NearMiss()\n",
    "x_train, y_train = nr.fit_sample(x_train, y_train)\n",
    "np.bincount(y_train)"
   ]
  },
  {
   "cell_type": "code",
   "execution_count": 130,
   "metadata": {},
   "outputs": [],
   "source": [
    "model_for = RandomForestClassifier()\n",
    "\n",
    "#fit model\n",
    "model_for.fit(x_train, y_train)\n",
    "\n",
    "#create predictions based on model\n",
    "y_pred_for = model_for.predict(x_test)"
   ]
  },
  {
   "cell_type": "code",
   "execution_count": 131,
   "metadata": {
    "scrolled": true
   },
   "outputs": [
    {
     "name": "stdout",
     "output_type": "stream",
     "text": [
      "              precision    recall  f1-score   support\n",
      "\n",
      "         0.0       0.82      0.33      0.47      1334\n",
      "         1.0       0.20      0.70      0.31       316\n",
      "\n",
      "    accuracy                           0.40      1650\n",
      "   macro avg       0.51      0.52      0.39      1650\n",
      "weighted avg       0.71      0.40      0.44      1650\n",
      "\n"
     ]
    }
   ],
   "source": [
    "print(metrics.classification_report(y_test, y_pred_for))"
   ]
  },
  {
   "cell_type": "markdown",
   "metadata": {},
   "source": [
    "Going to one hot encode now and run other models. "
   ]
  },
  {
   "cell_type": "code",
   "execution_count": 132,
   "metadata": {
    "scrolled": true
   },
   "outputs": [
    {
     "data": {
      "text/plain": [
       "Index(['PatientGuid', 'DMIndicator', 'ICD_Bucket', 'Count_of_Medications',\n",
       "       'RE_NISTcode', 'BMI', 'DiastolicBP', 'SystolicBP', 'Height', 'Weight',\n",
       "       'Comorbidity', 'Region', 'Age_Bucket', 'Gender'],\n",
       "      dtype='object')"
      ]
     },
     "execution_count": 132,
     "metadata": {},
     "output_type": "execute_result"
    }
   ],
   "source": [
    "SP_SD_SM_SS_T.columns"
   ]
  },
  {
   "cell_type": "code",
   "execution_count": 133,
   "metadata": {},
   "outputs": [],
   "source": [
    "SP_SD_SM_SS_T = pd.concat([SP_SD_SM_SS_T,pd.get_dummies(SP_SD_SM_SS_T['Region'], prefix='Region',dummy_na=False)],axis=1).drop(['Region'],axis=1)"
   ]
  },
  {
   "cell_type": "code",
   "execution_count": 134,
   "metadata": {},
   "outputs": [],
   "source": [
    "SP_SD_SM_SS_T = pd.concat([SP_SD_SM_SS_T,pd.get_dummies(SP_SD_SM_SS_T['RE_NISTcode'], prefix='RE_NISTcode',dummy_na=False)],axis=1).drop(['RE_NISTcode'],axis=1)"
   ]
  },
  {
   "cell_type": "code",
   "execution_count": 135,
   "metadata": {},
   "outputs": [],
   "source": [
    "train = SP_SD_SM_SS_T[SP_SD_SM_SS_T['DMIndicator'].notnull()]\n",
    "test = SP_SD_SM_SS_T[SP_SD_SM_SS_T['DMIndicator'].isnull()]"
   ]
  },
  {
   "cell_type": "code",
   "execution_count": 136,
   "metadata": {},
   "outputs": [
    {
     "data": {
      "text/plain": [
       "(6600, 23)"
      ]
     },
     "execution_count": 136,
     "metadata": {},
     "output_type": "execute_result"
    }
   ],
   "source": [
    "train.shape"
   ]
  },
  {
   "cell_type": "code",
   "execution_count": 137,
   "metadata": {},
   "outputs": [
    {
     "data": {
      "text/plain": [
       "(3348, 23)"
      ]
     },
     "execution_count": 137,
     "metadata": {},
     "output_type": "execute_result"
    }
   ],
   "source": [
    "test.shape"
   ]
  },
  {
   "cell_type": "code",
   "execution_count": 138,
   "metadata": {},
   "outputs": [],
   "source": [
    "# Separate input features (X) and target variable (y)\n",
    "y = train['DMIndicator']\n",
    "x = train.drop(columns = ['DMIndicator','PatientGuid'], axis=1)\n",
    "x_cols = x.columns"
   ]
  },
  {
   "cell_type": "code",
   "execution_count": 139,
   "metadata": {},
   "outputs": [],
   "source": [
    "scaler = StandardScaler() #scaling our features due to various ranges\n",
    "x = scaler.fit_transform(x)"
   ]
  },
  {
   "cell_type": "code",
   "execution_count": 140,
   "metadata": {},
   "outputs": [],
   "source": [
    "x_train, x_test, y_train, y_test = train_test_split(x, y, test_size=0.25, random_state = 1)"
   ]
  },
  {
   "cell_type": "code",
   "execution_count": 141,
   "metadata": {},
   "outputs": [],
   "source": [
    "# Train model\n",
    "#create the model\n",
    "model = LogisticRegression()\n",
    "\n",
    "#fit model\n",
    "model.fit(x_train, y_train)\n",
    "\n",
    "#create predictions based on model\n",
    "y_pred = model.predict(x_test)"
   ]
  },
  {
   "cell_type": "code",
   "execution_count": 142,
   "metadata": {},
   "outputs": [
    {
     "name": "stdout",
     "output_type": "stream",
     "text": [
      "              precision    recall  f1-score   support\n",
      "\n",
      "         0.0       0.82      0.99      0.90      1334\n",
      "         1.0       0.68      0.07      0.13       316\n",
      "\n",
      "    accuracy                           0.82      1650\n",
      "   macro avg       0.75      0.53      0.51      1650\n",
      "weighted avg       0.79      0.82      0.75      1650\n",
      "\n"
     ]
    }
   ],
   "source": [
    "print(metrics.classification_report(y_test, y_pred))"
   ]
  },
  {
   "cell_type": "markdown",
   "metadata": {},
   "source": [
    "Now, trying under and over sampling techniques due to the class imbalance. "
   ]
  },
  {
   "cell_type": "code",
   "execution_count": 143,
   "metadata": {},
   "outputs": [
    {
     "data": {
      "text/plain": [
       "array([4000, 4000], dtype=int64)"
      ]
     },
     "execution_count": 143,
     "metadata": {},
     "output_type": "execute_result"
    }
   ],
   "source": [
    "smt = SMOTE()\n",
    "x_train, y_train = smt.fit_sample(x_train, y_train)\n",
    "np.bincount(y_train)"
   ]
  },
  {
   "cell_type": "code",
   "execution_count": 144,
   "metadata": {},
   "outputs": [],
   "source": [
    "# Train model\n",
    "#create the model\n",
    "model = LogisticRegression()\n",
    "\n",
    "#fit model\n",
    "model.fit(x_train, y_train)\n",
    "\n",
    "#create predictions based on model\n",
    "y_pred = model.predict(x_test)"
   ]
  },
  {
   "cell_type": "code",
   "execution_count": 145,
   "metadata": {},
   "outputs": [
    {
     "name": "stdout",
     "output_type": "stream",
     "text": [
      "              precision    recall  f1-score   support\n",
      "\n",
      "         0.0       0.92      0.59      0.72      1334\n",
      "         1.0       0.31      0.78      0.45       316\n",
      "\n",
      "    accuracy                           0.63      1650\n",
      "   macro avg       0.62      0.69      0.58      1650\n",
      "weighted avg       0.80      0.63      0.67      1650\n",
      "\n"
     ]
    }
   ],
   "source": [
    "print(metrics.classification_report(y_test, y_pred))"
   ]
  },
  {
   "cell_type": "code",
   "execution_count": 146,
   "metadata": {},
   "outputs": [],
   "source": [
    "x_train, x_test, y_train, y_test = train_test_split(x, y, test_size=0.25, random_state = 1)"
   ]
  },
  {
   "cell_type": "code",
   "execution_count": 147,
   "metadata": {},
   "outputs": [],
   "source": [
    "nr = NearMiss()\n",
    "x_train, y_train = nr.fit_sample(x_train, y_train)"
   ]
  },
  {
   "cell_type": "code",
   "execution_count": 148,
   "metadata": {},
   "outputs": [],
   "source": [
    "# Train model\n",
    "#create the model\n",
    "model = LogisticRegression()\n",
    "\n",
    "#fit model\n",
    "model.fit(x_train, y_train)\n",
    "\n",
    "#create predictions based on model\n",
    "y_pred = model.predict(x_test)"
   ]
  },
  {
   "cell_type": "code",
   "execution_count": 149,
   "metadata": {},
   "outputs": [
    {
     "name": "stdout",
     "output_type": "stream",
     "text": [
      "              precision    recall  f1-score   support\n",
      "\n",
      "         0.0       0.84      0.45      0.59      1334\n",
      "         1.0       0.21      0.63      0.32       316\n",
      "\n",
      "    accuracy                           0.48      1650\n",
      "   macro avg       0.52      0.54      0.45      1650\n",
      "weighted avg       0.72      0.48      0.53      1650\n",
      "\n"
     ]
    }
   ],
   "source": [
    "print(metrics.classification_report(y_test, y_pred))"
   ]
  },
  {
   "cell_type": "markdown",
   "metadata": {},
   "source": [
    "Looking at brier score metrics for both of our models"
   ]
  },
  {
   "cell_type": "code",
   "execution_count": 150,
   "metadata": {},
   "outputs": [
    {
     "name": "stdout",
     "output_type": "stream",
     "text": [
      "CV Brier: 0.19\n"
     ]
    }
   ],
   "source": [
    "# Compute the array containing the 10-folds CV MSEs\n",
    "Brier_CV_scores = - cross_val_score(model, x_train, y_train, cv=10, \n",
    "                                  scoring='neg_brier_score', \n",
    "                                  n_jobs=-1) \n",
    "\n",
    "# Compute the 10-folds CV RMSE\n",
    "Mean_Brier_CV = Brier_CV_scores.mean()\n",
    "\n",
    "# Print RMSE_CV\n",
    "print('CV Brier: {:.2f}'.format(Mean_Brier_CV))"
   ]
  },
  {
   "cell_type": "code",
   "execution_count": 151,
   "metadata": {},
   "outputs": [
    {
     "data": {
      "text/plain": [
       "array([0.13381504, 0.13709986, 0.15151022, 0.18521114, 0.18987143,\n",
       "       0.21817967, 0.22172864, 0.22628793, 0.22482221, 0.23906201])"
      ]
     },
     "execution_count": 151,
     "metadata": {},
     "output_type": "execute_result"
    }
   ],
   "source": [
    "Brier_CV_scores"
   ]
  },
  {
   "cell_type": "code",
   "execution_count": 152,
   "metadata": {},
   "outputs": [
    {
     "name": "stdout",
     "output_type": "stream",
     "text": [
      "CV Brier: 0.23\n"
     ]
    }
   ],
   "source": [
    "# Compute the array containing the 10-folds CV MSEs\n",
    "Brier_CV_scores = - cross_val_score(model_for, x_train, y_train, cv=10, \n",
    "                                  scoring='neg_brier_score', \n",
    "                                  n_jobs=-1) \n",
    "\n",
    "# Compute the 10-folds CV RMSE\n",
    "Mean_Brier_CV = Brier_CV_scores.mean()\n",
    "\n",
    "# Print RMSE_CV\n",
    "print('CV Brier: {:.2f}'.format(Mean_Brier_CV))"
   ]
  },
  {
   "cell_type": "code",
   "execution_count": 153,
   "metadata": {},
   "outputs": [
    {
     "data": {
      "text/plain": [
       "array([0.33768964, 0.24532132, 0.2289244 , 0.19836971, 0.18885553,\n",
       "       0.20495923, 0.23991375, 0.20705054, 0.22580953, 0.23742202])"
      ]
     },
     "execution_count": 153,
     "metadata": {},
     "output_type": "execute_result"
    }
   ],
   "source": [
    "Brier_CV_scores"
   ]
  }
 ],
 "metadata": {
  "kernelspec": {
   "display_name": "Python 3",
   "language": "python",
   "name": "python3"
  },
  "language_info": {
   "codemirror_mode": {
    "name": "ipython",
    "version": 3
   },
   "file_extension": ".py",
   "mimetype": "text/x-python",
   "name": "python",
   "nbconvert_exporter": "python",
   "pygments_lexer": "ipython3",
   "version": "3.7.3"
  }
 },
 "nbformat": 4,
 "nbformat_minor": 2
}
